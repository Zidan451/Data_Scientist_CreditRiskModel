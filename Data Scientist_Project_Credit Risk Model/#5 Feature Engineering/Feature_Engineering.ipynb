{
  "nbformat": 4,
  "nbformat_minor": 0,
  "metadata": {
    "colab": {
      "provenance": []
    },
    "kernelspec": {
      "name": "python3",
      "display_name": "Python 3"
    },
    "language_info": {
      "name": "python"
    }
  },
  "cells": [
    {
      "cell_type": "markdown",
      "source": [
        "# **Import Library**"
      ],
      "metadata": {
        "id": "wnHRbZ31oW6U"
      }
    },
    {
      "cell_type": "code",
      "execution_count": 1,
      "metadata": {
        "id": "siklrMG1lzPm"
      },
      "outputs": [],
      "source": [
        "import numpy as np\n",
        "import pandas as pd\n",
        "\n",
        "import warnings\n",
        "warnings.filterwarnings(\"ignore\") \n"
      ]
    },
    {
      "cell_type": "code",
      "source": [
        "from google.colab import drive\n",
        "drive.mount('/content/drive')"
      ],
      "metadata": {
        "colab": {
          "base_uri": "https://localhost:8080/"
        },
        "id": "k4r8Mgc4qpwK",
        "outputId": "2f2113d8-e092-4a70-87c4-efa27ef647ae"
      },
      "execution_count": 2,
      "outputs": [
        {
          "output_type": "stream",
          "name": "stdout",
          "text": [
            "Mounted at /content/drive\n"
          ]
        }
      ]
    },
    {
      "cell_type": "code",
      "source": [
        "lokasi = \"/content/drive/MyDrive/Colab Notebooks/Project_Credit Risk Model/lc_2016_2017.csv\"\n",
        "loan_data = pd.read_csv(lokasi)"
      ],
      "metadata": {
        "id": "xs0vS_LcrOac"
      },
      "execution_count": 3,
      "outputs": []
    },
    {
      "cell_type": "code",
      "source": [
        "loan_data.head()"
      ],
      "metadata": {
        "colab": {
          "base_uri": "https://localhost:8080/",
          "height": 386
        },
        "id": "B-eQr9F5mRWX",
        "outputId": "3118887b-ec8a-4d89-b9e6-77dee42768d6"
      },
      "execution_count": 4,
      "outputs": [
        {
          "output_type": "execute_result",
          "data": {
            "text/plain": [
              "          id  member_id  loan_amnt  funded_amnt  funded_amnt_inv       term  \\\n",
              "0  112435993        NaN       2300         2300           2300.0  36 months   \n",
              "1  112290210        NaN      16000        16000          16000.0  60 months   \n",
              "2  112436985        NaN       6025         6025           6025.0  36 months   \n",
              "3  112439006        NaN      20400        20400          20400.0  36 months   \n",
              "4  112438929        NaN      13000        13000          13000.0  36 months   \n",
              "\n",
              "   int_rate  installment grade sub_grade  ... total_bal_il il_util  \\\n",
              "0     12.62        77.08     C        C1  ...          0.0     NaN   \n",
              "1     12.62       360.95     C        C1  ...      11078.0    69.0   \n",
              "2     15.05       209.01     C        C4  ...          0.0     NaN   \n",
              "3      9.44       652.91     B        B1  ...      53566.0    95.0   \n",
              "4     11.99       431.73     B        B5  ...       8466.0    72.0   \n",
              "\n",
              "  open_rv_12m  open_rv_24m max_bal_bc all_util total_rev_hi_lim inq_fi  \\\n",
              "0         1.0          2.0     2315.0     55.0           7100.0    1.0   \n",
              "1         3.0          5.0     1962.0     94.0          31900.0    0.0   \n",
              "2         1.0          2.0     1950.0     45.0          27700.0    1.0   \n",
              "3         1.0          2.0     4240.0     60.0          46900.0    1.0   \n",
              "4         0.0          1.0     2996.0     78.0           7800.0    0.0   \n",
              "\n",
              "  total_cu_tl inq_last_12m  \n",
              "0         0.0          2.0  \n",
              "1         6.0          1.0  \n",
              "2         5.0          3.0  \n",
              "3         1.0          1.0  \n",
              "4         0.0          0.0  \n",
              "\n",
              "[5 rows x 72 columns]"
            ],
            "text/html": [
              "\n",
              "  <div id=\"df-5aeb525b-0542-4e22-9bcb-e437b9065491\">\n",
              "    <div class=\"colab-df-container\">\n",
              "      <div>\n",
              "<style scoped>\n",
              "    .dataframe tbody tr th:only-of-type {\n",
              "        vertical-align: middle;\n",
              "    }\n",
              "\n",
              "    .dataframe tbody tr th {\n",
              "        vertical-align: top;\n",
              "    }\n",
              "\n",
              "    .dataframe thead th {\n",
              "        text-align: right;\n",
              "    }\n",
              "</style>\n",
              "<table border=\"1\" class=\"dataframe\">\n",
              "  <thead>\n",
              "    <tr style=\"text-align: right;\">\n",
              "      <th></th>\n",
              "      <th>id</th>\n",
              "      <th>member_id</th>\n",
              "      <th>loan_amnt</th>\n",
              "      <th>funded_amnt</th>\n",
              "      <th>funded_amnt_inv</th>\n",
              "      <th>term</th>\n",
              "      <th>int_rate</th>\n",
              "      <th>installment</th>\n",
              "      <th>grade</th>\n",
              "      <th>sub_grade</th>\n",
              "      <th>...</th>\n",
              "      <th>total_bal_il</th>\n",
              "      <th>il_util</th>\n",
              "      <th>open_rv_12m</th>\n",
              "      <th>open_rv_24m</th>\n",
              "      <th>max_bal_bc</th>\n",
              "      <th>all_util</th>\n",
              "      <th>total_rev_hi_lim</th>\n",
              "      <th>inq_fi</th>\n",
              "      <th>total_cu_tl</th>\n",
              "      <th>inq_last_12m</th>\n",
              "    </tr>\n",
              "  </thead>\n",
              "  <tbody>\n",
              "    <tr>\n",
              "      <th>0</th>\n",
              "      <td>112435993</td>\n",
              "      <td>NaN</td>\n",
              "      <td>2300</td>\n",
              "      <td>2300</td>\n",
              "      <td>2300.0</td>\n",
              "      <td>36 months</td>\n",
              "      <td>12.62</td>\n",
              "      <td>77.08</td>\n",
              "      <td>C</td>\n",
              "      <td>C1</td>\n",
              "      <td>...</td>\n",
              "      <td>0.0</td>\n",
              "      <td>NaN</td>\n",
              "      <td>1.0</td>\n",
              "      <td>2.0</td>\n",
              "      <td>2315.0</td>\n",
              "      <td>55.0</td>\n",
              "      <td>7100.0</td>\n",
              "      <td>1.0</td>\n",
              "      <td>0.0</td>\n",
              "      <td>2.0</td>\n",
              "    </tr>\n",
              "    <tr>\n",
              "      <th>1</th>\n",
              "      <td>112290210</td>\n",
              "      <td>NaN</td>\n",
              "      <td>16000</td>\n",
              "      <td>16000</td>\n",
              "      <td>16000.0</td>\n",
              "      <td>60 months</td>\n",
              "      <td>12.62</td>\n",
              "      <td>360.95</td>\n",
              "      <td>C</td>\n",
              "      <td>C1</td>\n",
              "      <td>...</td>\n",
              "      <td>11078.0</td>\n",
              "      <td>69.0</td>\n",
              "      <td>3.0</td>\n",
              "      <td>5.0</td>\n",
              "      <td>1962.0</td>\n",
              "      <td>94.0</td>\n",
              "      <td>31900.0</td>\n",
              "      <td>0.0</td>\n",
              "      <td>6.0</td>\n",
              "      <td>1.0</td>\n",
              "    </tr>\n",
              "    <tr>\n",
              "      <th>2</th>\n",
              "      <td>112436985</td>\n",
              "      <td>NaN</td>\n",
              "      <td>6025</td>\n",
              "      <td>6025</td>\n",
              "      <td>6025.0</td>\n",
              "      <td>36 months</td>\n",
              "      <td>15.05</td>\n",
              "      <td>209.01</td>\n",
              "      <td>C</td>\n",
              "      <td>C4</td>\n",
              "      <td>...</td>\n",
              "      <td>0.0</td>\n",
              "      <td>NaN</td>\n",
              "      <td>1.0</td>\n",
              "      <td>2.0</td>\n",
              "      <td>1950.0</td>\n",
              "      <td>45.0</td>\n",
              "      <td>27700.0</td>\n",
              "      <td>1.0</td>\n",
              "      <td>5.0</td>\n",
              "      <td>3.0</td>\n",
              "    </tr>\n",
              "    <tr>\n",
              "      <th>3</th>\n",
              "      <td>112439006</td>\n",
              "      <td>NaN</td>\n",
              "      <td>20400</td>\n",
              "      <td>20400</td>\n",
              "      <td>20400.0</td>\n",
              "      <td>36 months</td>\n",
              "      <td>9.44</td>\n",
              "      <td>652.91</td>\n",
              "      <td>B</td>\n",
              "      <td>B1</td>\n",
              "      <td>...</td>\n",
              "      <td>53566.0</td>\n",
              "      <td>95.0</td>\n",
              "      <td>1.0</td>\n",
              "      <td>2.0</td>\n",
              "      <td>4240.0</td>\n",
              "      <td>60.0</td>\n",
              "      <td>46900.0</td>\n",
              "      <td>1.0</td>\n",
              "      <td>1.0</td>\n",
              "      <td>1.0</td>\n",
              "    </tr>\n",
              "    <tr>\n",
              "      <th>4</th>\n",
              "      <td>112438929</td>\n",
              "      <td>NaN</td>\n",
              "      <td>13000</td>\n",
              "      <td>13000</td>\n",
              "      <td>13000.0</td>\n",
              "      <td>36 months</td>\n",
              "      <td>11.99</td>\n",
              "      <td>431.73</td>\n",
              "      <td>B</td>\n",
              "      <td>B5</td>\n",
              "      <td>...</td>\n",
              "      <td>8466.0</td>\n",
              "      <td>72.0</td>\n",
              "      <td>0.0</td>\n",
              "      <td>1.0</td>\n",
              "      <td>2996.0</td>\n",
              "      <td>78.0</td>\n",
              "      <td>7800.0</td>\n",
              "      <td>0.0</td>\n",
              "      <td>0.0</td>\n",
              "      <td>0.0</td>\n",
              "    </tr>\n",
              "  </tbody>\n",
              "</table>\n",
              "<p>5 rows × 72 columns</p>\n",
              "</div>\n",
              "      <button class=\"colab-df-convert\" onclick=\"convertToInteractive('df-5aeb525b-0542-4e22-9bcb-e437b9065491')\"\n",
              "              title=\"Convert this dataframe to an interactive table.\"\n",
              "              style=\"display:none;\">\n",
              "        \n",
              "  <svg xmlns=\"http://www.w3.org/2000/svg\" height=\"24px\"viewBox=\"0 0 24 24\"\n",
              "       width=\"24px\">\n",
              "    <path d=\"M0 0h24v24H0V0z\" fill=\"none\"/>\n",
              "    <path d=\"M18.56 5.44l.94 2.06.94-2.06 2.06-.94-2.06-.94-.94-2.06-.94 2.06-2.06.94zm-11 1L8.5 8.5l.94-2.06 2.06-.94-2.06-.94L8.5 2.5l-.94 2.06-2.06.94zm10 10l.94 2.06.94-2.06 2.06-.94-2.06-.94-.94-2.06-.94 2.06-2.06.94z\"/><path d=\"M17.41 7.96l-1.37-1.37c-.4-.4-.92-.59-1.43-.59-.52 0-1.04.2-1.43.59L10.3 9.45l-7.72 7.72c-.78.78-.78 2.05 0 2.83L4 21.41c.39.39.9.59 1.41.59.51 0 1.02-.2 1.41-.59l7.78-7.78 2.81-2.81c.8-.78.8-2.07 0-2.86zM5.41 20L4 18.59l7.72-7.72 1.47 1.35L5.41 20z\"/>\n",
              "  </svg>\n",
              "      </button>\n",
              "      \n",
              "  <style>\n",
              "    .colab-df-container {\n",
              "      display:flex;\n",
              "      flex-wrap:wrap;\n",
              "      gap: 12px;\n",
              "    }\n",
              "\n",
              "    .colab-df-convert {\n",
              "      background-color: #E8F0FE;\n",
              "      border: none;\n",
              "      border-radius: 50%;\n",
              "      cursor: pointer;\n",
              "      display: none;\n",
              "      fill: #1967D2;\n",
              "      height: 32px;\n",
              "      padding: 0 0 0 0;\n",
              "      width: 32px;\n",
              "    }\n",
              "\n",
              "    .colab-df-convert:hover {\n",
              "      background-color: #E2EBFA;\n",
              "      box-shadow: 0px 1px 2px rgba(60, 64, 67, 0.3), 0px 1px 3px 1px rgba(60, 64, 67, 0.15);\n",
              "      fill: #174EA6;\n",
              "    }\n",
              "\n",
              "    [theme=dark] .colab-df-convert {\n",
              "      background-color: #3B4455;\n",
              "      fill: #D2E3FC;\n",
              "    }\n",
              "\n",
              "    [theme=dark] .colab-df-convert:hover {\n",
              "      background-color: #434B5C;\n",
              "      box-shadow: 0px 1px 3px 1px rgba(0, 0, 0, 0.15);\n",
              "      filter: drop-shadow(0px 1px 2px rgba(0, 0, 0, 0.3));\n",
              "      fill: #FFFFFF;\n",
              "    }\n",
              "  </style>\n",
              "\n",
              "      <script>\n",
              "        const buttonEl =\n",
              "          document.querySelector('#df-5aeb525b-0542-4e22-9bcb-e437b9065491 button.colab-df-convert');\n",
              "        buttonEl.style.display =\n",
              "          google.colab.kernel.accessAllowed ? 'block' : 'none';\n",
              "\n",
              "        async function convertToInteractive(key) {\n",
              "          const element = document.querySelector('#df-5aeb525b-0542-4e22-9bcb-e437b9065491');\n",
              "          const dataTable =\n",
              "            await google.colab.kernel.invokeFunction('convertToInteractive',\n",
              "                                                     [key], {});\n",
              "          if (!dataTable) return;\n",
              "\n",
              "          const docLinkHtml = 'Like what you see? Visit the ' +\n",
              "            '<a target=\"_blank\" href=https://colab.research.google.com/notebooks/data_table.ipynb>data table notebook</a>'\n",
              "            + ' to learn more about interactive tables.';\n",
              "          element.innerHTML = '';\n",
              "          dataTable['output_type'] = 'display_data';\n",
              "          await google.colab.output.renderOutput(dataTable, element);\n",
              "          const docLink = document.createElement('div');\n",
              "          docLink.innerHTML = docLinkHtml;\n",
              "          element.appendChild(docLink);\n",
              "        }\n",
              "      </script>\n",
              "    </div>\n",
              "  </div>\n",
              "  "
            ]
          },
          "metadata": {},
          "execution_count": 4
        }
      ]
    },
    {
      "cell_type": "code",
      "source": [
        "# Melihat total baris dan kolom\n",
        "loan_data.shape\n",
        "\n",
        "## Total jumlah baris 759,338 dan 72 kolom"
      ],
      "metadata": {
        "colab": {
          "base_uri": "https://localhost:8080/"
        },
        "id": "ydCXVEu6mRT3",
        "outputId": "96a4471b-0deb-4f38-b9ac-f0ddc6c95fc2"
      },
      "execution_count": 5,
      "outputs": [
        {
          "output_type": "execute_result",
          "data": {
            "text/plain": [
              "(759338, 72)"
            ]
          },
          "metadata": {},
          "execution_count": 5
        }
      ]
    },
    {
      "cell_type": "code",
      "source": [
        "# Melihat info seluruh kolom\n",
        "loan_data.info()"
      ],
      "metadata": {
        "colab": {
          "base_uri": "https://localhost:8080/"
        },
        "id": "JGRmnrdvmRIW",
        "outputId": "59d8b686-2380-4214-f902-0343c9a700ec"
      },
      "execution_count": 6,
      "outputs": [
        {
          "output_type": "stream",
          "name": "stdout",
          "text": [
            "<class 'pandas.core.frame.DataFrame'>\n",
            "RangeIndex: 759338 entries, 0 to 759337\n",
            "Data columns (total 72 columns):\n",
            " #   Column                       Non-Null Count   Dtype  \n",
            "---  ------                       --------------   -----  \n",
            " 0   id                           759338 non-null  int64  \n",
            " 1   member_id                    0 non-null       float64\n",
            " 2   loan_amnt                    759338 non-null  int64  \n",
            " 3   funded_amnt                  759338 non-null  int64  \n",
            " 4   funded_amnt_inv              759338 non-null  float64\n",
            " 5   term                         759338 non-null  object \n",
            " 6   int_rate                     759338 non-null  float64\n",
            " 7   installment                  759338 non-null  float64\n",
            " 8   grade                        759338 non-null  object \n",
            " 9   sub_grade                    759338 non-null  object \n",
            " 10  emp_title                    708368 non-null  object \n",
            " 11  emp_length                   708975 non-null  object \n",
            " 12  home_ownership               759338 non-null  object \n",
            " 13  annual_inc                   759338 non-null  float64\n",
            " 14  verification_status          759338 non-null  object \n",
            " 15  issue_d                      759338 non-null  object \n",
            " 16  loan_status                  759338 non-null  object \n",
            " 17  pymnt_plan                   759338 non-null  object \n",
            " 18  desc                         17 non-null      object \n",
            " 19  purpose                      759338 non-null  object \n",
            " 20  title                        736165 non-null  object \n",
            " 21  zip_code                     759337 non-null  object \n",
            " 22  addr_state                   759338 non-null  object \n",
            " 23  dti                          758983 non-null  float64\n",
            " 24  delinq_2yrs                  759338 non-null  int64  \n",
            " 25  earliest_cr_line             759338 non-null  object \n",
            " 26  inq_last_6mths               759337 non-null  float64\n",
            " 27  mths_since_last_delinq       396633 non-null  float64\n",
            " 28  mths_since_last_record       141179 non-null  float64\n",
            " 29  open_acc                     759338 non-null  int64  \n",
            " 30  pub_rec                      759338 non-null  int64  \n",
            " 31  revol_bal                    759338 non-null  float64\n",
            " 32  revol_util                   758821 non-null  float64\n",
            " 33  total_acc                    759338 non-null  int64  \n",
            " 34  initial_list_status          759338 non-null  object \n",
            " 35  out_prncp                    759338 non-null  float64\n",
            " 36  out_prncp_inv                759338 non-null  float64\n",
            " 37  total_pymnt                  759338 non-null  float64\n",
            " 38  total_pymnt_inv              759338 non-null  float64\n",
            " 39  total_rec_prncp              759338 non-null  float64\n",
            " 40  total_rec_int                759338 non-null  float64\n",
            " 41  total_rec_late_fee           759338 non-null  float64\n",
            " 42  recoveries                   759338 non-null  float64\n",
            " 43  collection_recovery_fee      759338 non-null  float64\n",
            " 44  last_pymnt_d                 758390 non-null  object \n",
            " 45  last_pymnt_amnt              759338 non-null  float64\n",
            " 46  next_pymnt_d                 591423 non-null  object \n",
            " 47  last_credit_pull_d           759320 non-null  object \n",
            " 48  collections_12_mths_ex_med   759338 non-null  int64  \n",
            " 49  mths_since_last_major_derog  215105 non-null  float64\n",
            " 50  policy_code                  759338 non-null  int64  \n",
            " 51  application_type             759338 non-null  object \n",
            " 52  annual_inc_joint             34003 non-null   float64\n",
            " 53  dti_joint                    34001 non-null   float64\n",
            " 54  verification_status_joint    34003 non-null   object \n",
            " 55  acc_now_delinq               759338 non-null  int64  \n",
            " 56  tot_coll_amt                 759338 non-null  float64\n",
            " 57  tot_cur_bal                  759338 non-null  float64\n",
            " 58  open_acc_6m                  759276 non-null  float64\n",
            " 59  open_il_12m                  759277 non-null  float64\n",
            " 60  open_il_24m                  759277 non-null  float64\n",
            " 61  mths_since_rcnt_il           738795 non-null  float64\n",
            " 62  total_bal_il                 759277 non-null  float64\n",
            " 63  il_util                      658743 non-null  float64\n",
            " 64  open_rv_12m                  759277 non-null  float64\n",
            " 65  open_rv_24m                  759277 non-null  float64\n",
            " 66  max_bal_bc                   759277 non-null  float64\n",
            " 67  all_util                     759224 non-null  float64\n",
            " 68  total_rev_hi_lim             759338 non-null  float64\n",
            " 69  inq_fi                       759277 non-null  float64\n",
            " 70  total_cu_tl                  759276 non-null  float64\n",
            " 71  inq_last_12m                 759276 non-null  float64\n",
            "dtypes: float64(40), int64(10), object(22)\n",
            "memory usage: 417.1+ MB\n"
          ]
        }
      ]
    },
    {
      "cell_type": "markdown",
      "source": [
        "# **Target Variable**"
      ],
      "metadata": {
        "id": "c2AquC97oo4V"
      }
    },
    {
      "cell_type": "markdown",
      "source": [
        "Dikarenakan project ini untuk mengetahui bad loan & good loan, maka perlu dibuat feature baru, yaitu target variable yang merepresentasikan bad loan (sebagai 1) dan good loan (sebagai 0)"
      ],
      "metadata": {
        "id": "Fx43NvxsouWe"
      }
    },
    {
      "cell_type": "code",
      "source": [
        "# Melihat unique values pada feature loan_status\n",
        "loan_data.loan_status.unique()"
      ],
      "metadata": {
        "colab": {
          "base_uri": "https://localhost:8080/"
        },
        "id": "0vsvF0b6mhQT",
        "outputId": "a2728b19-c9d0-413b-e399-b0a9da00e719"
      },
      "execution_count": 7,
      "outputs": [
        {
          "output_type": "execute_result",
          "data": {
            "text/plain": [
              "array(['Current', 'Fully Paid', 'In Grace Period', 'Late (31-120 days)',\n",
              "       'Late (16-30 days)', 'Charged Off', 'Default'], dtype=object)"
            ]
          },
          "metadata": {},
          "execution_count": 7
        }
      ]
    },
    {
      "cell_type": "code",
      "source": [
        "# Membuat feature baru yaitu good_bad sebagai target variable,\n",
        "# Jika loan_statusnya 'Charged Off', 'Default', 'Late (31-120 days)', 'Late (16-30 days)' \n",
        "# akan dianggap sebagai bad_loan atau 1 dan nilai selain itu akan dianggap good loan atau 0\n",
        "loan_data['good_bad'] = np.where(loan_data.loc[:, 'loan_status'].isin(['Charged Off', \n",
        "                                                                   'Default', 'Late (31-120 days)', 'Late (16-30 days)'])\n",
        "                                , 1 , 0)"
      ],
      "metadata": {
        "id": "qvJ1mHwhmk8h"
      },
      "execution_count": 8,
      "outputs": []
    },
    {
      "cell_type": "code",
      "source": [
        "# Melihat distribusi 0 dan 1\n",
        "loan_data.good_bad.value_counts()"
      ],
      "metadata": {
        "colab": {
          "base_uri": "https://localhost:8080/"
        },
        "id": "lDCK2nXrmqQK",
        "outputId": "1ea45e4b-1c1d-460a-9389-f551cdb00f0e"
      },
      "execution_count": 9,
      "outputs": [
        {
          "output_type": "execute_result",
          "data": {
            "text/plain": [
              "0    702875\n",
              "1     56463\n",
              "Name: good_bad, dtype: int64"
            ]
          },
          "metadata": {},
          "execution_count": 9
        }
      ]
    },
    {
      "cell_type": "code",
      "source": [
        "loan_data.good_bad.value_counts(normalize=True)"
      ],
      "metadata": {
        "colab": {
          "base_uri": "https://localhost:8080/"
        },
        "id": "tNYILpOimuCW",
        "outputId": "809e4f6d-8a7a-4525-fbcc-3bb9c4a7c598"
      },
      "execution_count": 10,
      "outputs": [
        {
          "output_type": "execute_result",
          "data": {
            "text/plain": [
              "0    0.925642\n",
              "1    0.074358\n",
              "Name: good_bad, dtype: float64"
            ]
          },
          "metadata": {},
          "execution_count": 10
        }
      ]
    },
    {
      "cell_type": "markdown",
      "source": [
        "#**Missing Values**"
      ],
      "metadata": {
        "id": "RgRXtO2Wo1Ep"
      }
    },
    {
      "cell_type": "markdown",
      "source": [
        "Feature yang memiliki missing values lebih dari 50% akan di drop, karena jika ingin diisi dengan nilai lain seperti median atau mean, maka errornya akan sangat tinggi. Lebih baik di drop agar tidak membuat model semakin tidak akurat."
      ],
      "metadata": {
        "id": "gkplk9QAo4tt"
      }
    },
    {
      "cell_type": "code",
      "source": [
        "# Melihat feature apa saja yang memiliki missing value lebih dari 50%\n",
        "missing_values = pd.DataFrame(loan_data.isnull().sum()/loan_data.shape[0])\n",
        "missing_values = missing_values[missing_values.iloc[:,0] > 0.50]\n",
        "missing_values.sort_values([0], ascending=False)"
      ],
      "metadata": {
        "colab": {
          "base_uri": "https://localhost:8080/",
          "height": 269
        },
        "id": "oYM9OshFmwsc",
        "outputId": "a9123830-db4e-4ed8-d607-d05e9a286302"
      },
      "execution_count": 11,
      "outputs": [
        {
          "output_type": "execute_result",
          "data": {
            "text/plain": [
              "                                    0\n",
              "member_id                    1.000000\n",
              "desc                         0.999978\n",
              "dti_joint                    0.955223\n",
              "annual_inc_joint             0.955220\n",
              "verification_status_joint    0.955220\n",
              "mths_since_last_record       0.814076\n",
              "mths_since_last_major_derog  0.716720"
            ],
            "text/html": [
              "\n",
              "  <div id=\"df-fc0352e7-9e37-46a1-90cd-7e3c6ca8cd0e\">\n",
              "    <div class=\"colab-df-container\">\n",
              "      <div>\n",
              "<style scoped>\n",
              "    .dataframe tbody tr th:only-of-type {\n",
              "        vertical-align: middle;\n",
              "    }\n",
              "\n",
              "    .dataframe tbody tr th {\n",
              "        vertical-align: top;\n",
              "    }\n",
              "\n",
              "    .dataframe thead th {\n",
              "        text-align: right;\n",
              "    }\n",
              "</style>\n",
              "<table border=\"1\" class=\"dataframe\">\n",
              "  <thead>\n",
              "    <tr style=\"text-align: right;\">\n",
              "      <th></th>\n",
              "      <th>0</th>\n",
              "    </tr>\n",
              "  </thead>\n",
              "  <tbody>\n",
              "    <tr>\n",
              "      <th>member_id</th>\n",
              "      <td>1.000000</td>\n",
              "    </tr>\n",
              "    <tr>\n",
              "      <th>desc</th>\n",
              "      <td>0.999978</td>\n",
              "    </tr>\n",
              "    <tr>\n",
              "      <th>dti_joint</th>\n",
              "      <td>0.955223</td>\n",
              "    </tr>\n",
              "    <tr>\n",
              "      <th>annual_inc_joint</th>\n",
              "      <td>0.955220</td>\n",
              "    </tr>\n",
              "    <tr>\n",
              "      <th>verification_status_joint</th>\n",
              "      <td>0.955220</td>\n",
              "    </tr>\n",
              "    <tr>\n",
              "      <th>mths_since_last_record</th>\n",
              "      <td>0.814076</td>\n",
              "    </tr>\n",
              "    <tr>\n",
              "      <th>mths_since_last_major_derog</th>\n",
              "      <td>0.716720</td>\n",
              "    </tr>\n",
              "  </tbody>\n",
              "</table>\n",
              "</div>\n",
              "      <button class=\"colab-df-convert\" onclick=\"convertToInteractive('df-fc0352e7-9e37-46a1-90cd-7e3c6ca8cd0e')\"\n",
              "              title=\"Convert this dataframe to an interactive table.\"\n",
              "              style=\"display:none;\">\n",
              "        \n",
              "  <svg xmlns=\"http://www.w3.org/2000/svg\" height=\"24px\"viewBox=\"0 0 24 24\"\n",
              "       width=\"24px\">\n",
              "    <path d=\"M0 0h24v24H0V0z\" fill=\"none\"/>\n",
              "    <path d=\"M18.56 5.44l.94 2.06.94-2.06 2.06-.94-2.06-.94-.94-2.06-.94 2.06-2.06.94zm-11 1L8.5 8.5l.94-2.06 2.06-.94-2.06-.94L8.5 2.5l-.94 2.06-2.06.94zm10 10l.94 2.06.94-2.06 2.06-.94-2.06-.94-.94-2.06-.94 2.06-2.06.94z\"/><path d=\"M17.41 7.96l-1.37-1.37c-.4-.4-.92-.59-1.43-.59-.52 0-1.04.2-1.43.59L10.3 9.45l-7.72 7.72c-.78.78-.78 2.05 0 2.83L4 21.41c.39.39.9.59 1.41.59.51 0 1.02-.2 1.41-.59l7.78-7.78 2.81-2.81c.8-.78.8-2.07 0-2.86zM5.41 20L4 18.59l7.72-7.72 1.47 1.35L5.41 20z\"/>\n",
              "  </svg>\n",
              "      </button>\n",
              "      \n",
              "  <style>\n",
              "    .colab-df-container {\n",
              "      display:flex;\n",
              "      flex-wrap:wrap;\n",
              "      gap: 12px;\n",
              "    }\n",
              "\n",
              "    .colab-df-convert {\n",
              "      background-color: #E8F0FE;\n",
              "      border: none;\n",
              "      border-radius: 50%;\n",
              "      cursor: pointer;\n",
              "      display: none;\n",
              "      fill: #1967D2;\n",
              "      height: 32px;\n",
              "      padding: 0 0 0 0;\n",
              "      width: 32px;\n",
              "    }\n",
              "\n",
              "    .colab-df-convert:hover {\n",
              "      background-color: #E2EBFA;\n",
              "      box-shadow: 0px 1px 2px rgba(60, 64, 67, 0.3), 0px 1px 3px 1px rgba(60, 64, 67, 0.15);\n",
              "      fill: #174EA6;\n",
              "    }\n",
              "\n",
              "    [theme=dark] .colab-df-convert {\n",
              "      background-color: #3B4455;\n",
              "      fill: #D2E3FC;\n",
              "    }\n",
              "\n",
              "    [theme=dark] .colab-df-convert:hover {\n",
              "      background-color: #434B5C;\n",
              "      box-shadow: 0px 1px 3px 1px rgba(0, 0, 0, 0.15);\n",
              "      filter: drop-shadow(0px 1px 2px rgba(0, 0, 0, 0.3));\n",
              "      fill: #FFFFFF;\n",
              "    }\n",
              "  </style>\n",
              "\n",
              "      <script>\n",
              "        const buttonEl =\n",
              "          document.querySelector('#df-fc0352e7-9e37-46a1-90cd-7e3c6ca8cd0e button.colab-df-convert');\n",
              "        buttonEl.style.display =\n",
              "          google.colab.kernel.accessAllowed ? 'block' : 'none';\n",
              "\n",
              "        async function convertToInteractive(key) {\n",
              "          const element = document.querySelector('#df-fc0352e7-9e37-46a1-90cd-7e3c6ca8cd0e');\n",
              "          const dataTable =\n",
              "            await google.colab.kernel.invokeFunction('convertToInteractive',\n",
              "                                                     [key], {});\n",
              "          if (!dataTable) return;\n",
              "\n",
              "          const docLinkHtml = 'Like what you see? Visit the ' +\n",
              "            '<a target=\"_blank\" href=https://colab.research.google.com/notebooks/data_table.ipynb>data table notebook</a>'\n",
              "            + ' to learn more about interactive tables.';\n",
              "          element.innerHTML = '';\n",
              "          dataTable['output_type'] = 'display_data';\n",
              "          await google.colab.output.renderOutput(dataTable, element);\n",
              "          const docLink = document.createElement('div');\n",
              "          docLink.innerHTML = docLinkHtml;\n",
              "          element.appendChild(docLink);\n",
              "        }\n",
              "      </script>\n",
              "    </div>\n",
              "  </div>\n",
              "  "
            ]
          },
          "metadata": {},
          "execution_count": 11
        }
      ]
    },
    {
      "cell_type": "code",
      "source": [
        "# Drop feature tersebut\n",
        "loan_data.dropna(thresh = loan_data.shape[0]*0.5, how='all', axis=1, inplace=True)"
      ],
      "metadata": {
        "id": "LOeGxdE-m0jf"
      },
      "execution_count": 12,
      "outputs": []
    },
    {
      "cell_type": "code",
      "source": [
        "# Pengecheckan ulang apakah feature tersebut berhasil di drop\n",
        "missing_values = pd.DataFrame(loan_data.isnull().sum()/loan_data.shape[0])\n",
        "missing_values = missing_values[missing_values.iloc[:,0] > 0.50]\n",
        "missing_values.sort_values([0], ascending=False)"
      ],
      "metadata": {
        "colab": {
          "base_uri": "https://localhost:8080/",
          "height": 49
        },
        "id": "opqHhFFMm0gu",
        "outputId": "aa4482f7-f8bb-465b-f1f8-274d2db0be19"
      },
      "execution_count": 13,
      "outputs": [
        {
          "output_type": "execute_result",
          "data": {
            "text/plain": [
              "Empty DataFrame\n",
              "Columns: [0]\n",
              "Index: []"
            ],
            "text/html": [
              "\n",
              "  <div id=\"df-b0038c2c-5acb-46ad-9581-2308332f170a\">\n",
              "    <div class=\"colab-df-container\">\n",
              "      <div>\n",
              "<style scoped>\n",
              "    .dataframe tbody tr th:only-of-type {\n",
              "        vertical-align: middle;\n",
              "    }\n",
              "\n",
              "    .dataframe tbody tr th {\n",
              "        vertical-align: top;\n",
              "    }\n",
              "\n",
              "    .dataframe thead th {\n",
              "        text-align: right;\n",
              "    }\n",
              "</style>\n",
              "<table border=\"1\" class=\"dataframe\">\n",
              "  <thead>\n",
              "    <tr style=\"text-align: right;\">\n",
              "      <th></th>\n",
              "      <th>0</th>\n",
              "    </tr>\n",
              "  </thead>\n",
              "  <tbody>\n",
              "  </tbody>\n",
              "</table>\n",
              "</div>\n",
              "      <button class=\"colab-df-convert\" onclick=\"convertToInteractive('df-b0038c2c-5acb-46ad-9581-2308332f170a')\"\n",
              "              title=\"Convert this dataframe to an interactive table.\"\n",
              "              style=\"display:none;\">\n",
              "        \n",
              "  <svg xmlns=\"http://www.w3.org/2000/svg\" height=\"24px\"viewBox=\"0 0 24 24\"\n",
              "       width=\"24px\">\n",
              "    <path d=\"M0 0h24v24H0V0z\" fill=\"none\"/>\n",
              "    <path d=\"M18.56 5.44l.94 2.06.94-2.06 2.06-.94-2.06-.94-.94-2.06-.94 2.06-2.06.94zm-11 1L8.5 8.5l.94-2.06 2.06-.94-2.06-.94L8.5 2.5l-.94 2.06-2.06.94zm10 10l.94 2.06.94-2.06 2.06-.94-2.06-.94-.94-2.06-.94 2.06-2.06.94z\"/><path d=\"M17.41 7.96l-1.37-1.37c-.4-.4-.92-.59-1.43-.59-.52 0-1.04.2-1.43.59L10.3 9.45l-7.72 7.72c-.78.78-.78 2.05 0 2.83L4 21.41c.39.39.9.59 1.41.59.51 0 1.02-.2 1.41-.59l7.78-7.78 2.81-2.81c.8-.78.8-2.07 0-2.86zM5.41 20L4 18.59l7.72-7.72 1.47 1.35L5.41 20z\"/>\n",
              "  </svg>\n",
              "      </button>\n",
              "      \n",
              "  <style>\n",
              "    .colab-df-container {\n",
              "      display:flex;\n",
              "      flex-wrap:wrap;\n",
              "      gap: 12px;\n",
              "    }\n",
              "\n",
              "    .colab-df-convert {\n",
              "      background-color: #E8F0FE;\n",
              "      border: none;\n",
              "      border-radius: 50%;\n",
              "      cursor: pointer;\n",
              "      display: none;\n",
              "      fill: #1967D2;\n",
              "      height: 32px;\n",
              "      padding: 0 0 0 0;\n",
              "      width: 32px;\n",
              "    }\n",
              "\n",
              "    .colab-df-convert:hover {\n",
              "      background-color: #E2EBFA;\n",
              "      box-shadow: 0px 1px 2px rgba(60, 64, 67, 0.3), 0px 1px 3px 1px rgba(60, 64, 67, 0.15);\n",
              "      fill: #174EA6;\n",
              "    }\n",
              "\n",
              "    [theme=dark] .colab-df-convert {\n",
              "      background-color: #3B4455;\n",
              "      fill: #D2E3FC;\n",
              "    }\n",
              "\n",
              "    [theme=dark] .colab-df-convert:hover {\n",
              "      background-color: #434B5C;\n",
              "      box-shadow: 0px 1px 3px 1px rgba(0, 0, 0, 0.15);\n",
              "      filter: drop-shadow(0px 1px 2px rgba(0, 0, 0, 0.3));\n",
              "      fill: #FFFFFF;\n",
              "    }\n",
              "  </style>\n",
              "\n",
              "      <script>\n",
              "        const buttonEl =\n",
              "          document.querySelector('#df-b0038c2c-5acb-46ad-9581-2308332f170a button.colab-df-convert');\n",
              "        buttonEl.style.display =\n",
              "          google.colab.kernel.accessAllowed ? 'block' : 'none';\n",
              "\n",
              "        async function convertToInteractive(key) {\n",
              "          const element = document.querySelector('#df-b0038c2c-5acb-46ad-9581-2308332f170a');\n",
              "          const dataTable =\n",
              "            await google.colab.kernel.invokeFunction('convertToInteractive',\n",
              "                                                     [key], {});\n",
              "          if (!dataTable) return;\n",
              "\n",
              "          const docLinkHtml = 'Like what you see? Visit the ' +\n",
              "            '<a target=\"_blank\" href=https://colab.research.google.com/notebooks/data_table.ipynb>data table notebook</a>'\n",
              "            + ' to learn more about interactive tables.';\n",
              "          element.innerHTML = '';\n",
              "          dataTable['output_type'] = 'display_data';\n",
              "          await google.colab.output.renderOutput(dataTable, element);\n",
              "          const docLink = document.createElement('div');\n",
              "          docLink.innerHTML = docLinkHtml;\n",
              "          element.appendChild(docLink);\n",
              "        }\n",
              "      </script>\n",
              "    </div>\n",
              "  </div>\n",
              "  "
            ]
          },
          "metadata": {},
          "execution_count": 13
        }
      ]
    },
    {
      "cell_type": "markdown",
      "source": [
        "# **Data Splitting**"
      ],
      "metadata": {
        "id": "UY1hS0LOo_9D"
      }
    },
    {
      "cell_type": "code",
      "source": [
        "from sklearn.model_selection import train_test_split"
      ],
      "metadata": {
        "id": "g4tE_w9vm0dv"
      },
      "execution_count": 14,
      "outputs": []
    },
    {
      "cell_type": "code",
      "source": [
        "# Membagi data menjadi 80/20 dengan menyamakan distribusi dari bad loans di test set dengan train set.\n",
        "X = loan_data.drop('good_bad', axis=1)\n",
        "y = loan_data['good_bad']\n",
        "\n",
        "X_train, X_test, y_train, y_test = train_test_split(X, y, test_size= 0.2, stratify= y, random_state=42)\n"
      ],
      "metadata": {
        "id": "HuHoPE7Dm0ac"
      },
      "execution_count": 15,
      "outputs": []
    },
    {
      "cell_type": "code",
      "source": [
        "y_train.value_counts(normalize=True)"
      ],
      "metadata": {
        "colab": {
          "base_uri": "https://localhost:8080/"
        },
        "id": "hS4GG3IxnELB",
        "outputId": "eb2f33ef-c2e6-486c-b717-5fa2a098c4ab"
      },
      "execution_count": 16,
      "outputs": [
        {
          "output_type": "execute_result",
          "data": {
            "text/plain": [
              "0    0.925642\n",
              "1    0.074358\n",
              "Name: good_bad, dtype: float64"
            ]
          },
          "metadata": {},
          "execution_count": 16
        }
      ]
    },
    {
      "cell_type": "code",
      "source": [
        "# Distribusi y_test sudah sama persis dengan y_train\n",
        "y_test.value_counts(normalize=True)"
      ],
      "metadata": {
        "colab": {
          "base_uri": "https://localhost:8080/"
        },
        "id": "wYkaB5O_nEIW",
        "outputId": "a240ca5f-f4e9-4f3d-b877-62060cf243c7"
      },
      "execution_count": 17,
      "outputs": [
        {
          "output_type": "execute_result",
          "data": {
            "text/plain": [
              "0    0.925639\n",
              "1    0.074361\n",
              "Name: good_bad, dtype: float64"
            ]
          },
          "metadata": {},
          "execution_count": 17
        }
      ]
    },
    {
      "cell_type": "markdown",
      "source": [
        "#**Data Cleaning**"
      ],
      "metadata": {
        "id": "cvH6f8_ipGgs"
      }
    },
    {
      "cell_type": "code",
      "source": [
        "# Terdapat 65 kolom, bagaimana untuk mengetahui kolom apa saja yang memiliki data kotor?\n",
        "X_train.shape"
      ],
      "metadata": {
        "colab": {
          "base_uri": "https://localhost:8080/"
        },
        "id": "9At7P8wynEFX",
        "outputId": "90e72b86-30d4-4eff-980d-e3263a4e66e0"
      },
      "execution_count": 18,
      "outputs": [
        {
          "output_type": "execute_result",
          "data": {
            "text/plain": [
              "(607470, 65)"
            ]
          },
          "metadata": {},
          "execution_count": 18
        }
      ]
    },
    {
      "cell_type": "code",
      "source": [
        "# Dapat dilakukan print untuk semua unique values kolom, sehingga dapat di cek satu-satu\n",
        "# unique values apa saja yang kotor.\n",
        "\n",
        "# for col in X_train.select_dtypes(include= ['object','bool']).columns:\n",
        "#     print(col)\n",
        "#     print(X_train[col].unique())\n",
        "#     print()"
      ],
      "metadata": {
        "id": "ffp97IQ0pMe9"
      },
      "execution_count": 42,
      "outputs": []
    },
    {
      "cell_type": "code",
      "source": [
        "# Kolom/feature yang harus di cleaning\n",
        "col_need_to_clean = ['term', 'emp_length', 'issue_d', 'earliest_cr_line', 'last_pymnt_d', \n",
        "                    'next_pymnt_d', 'last_credit_pull_d']"
      ],
      "metadata": {
        "id": "JG6sdVzxnNeM"
      },
      "execution_count": 19,
      "outputs": []
    },
    {
      "cell_type": "code",
      "source": [
        "# Menghilangkan ' months' menjadi ''\n",
        "X_train['term'].str.replace(' months', '')"
      ],
      "metadata": {
        "colab": {
          "base_uri": "https://localhost:8080/"
        },
        "id": "Q8ghCg_GnNbN",
        "outputId": "0e186ba4-4c44-40a3-ad2d-11bf5fc923cc"
      },
      "execution_count": 20,
      "outputs": [
        {
          "output_type": "execute_result",
          "data": {
            "text/plain": [
              "147577    36\n",
              "505776    36\n",
              "412425    36\n",
              "618730    36\n",
              "111143    36\n",
              "          ..\n",
              "150426    36\n",
              "195135    36\n",
              "182511    36\n",
              "82596     36\n",
              "165904    36\n",
              "Name: term, Length: 607470, dtype: object"
            ]
          },
          "metadata": {},
          "execution_count": 20
        }
      ]
    },
    {
      "cell_type": "code",
      "source": [
        "# Convert data type menjadi numeric \n",
        "X_train['term'] = pd.to_numeric(X_train['term'].str.replace(' months', ''))"
      ],
      "metadata": {
        "id": "TlfKk2HonNX5"
      },
      "execution_count": 21,
      "outputs": []
    },
    {
      "cell_type": "code",
      "source": [
        "X_train['term']"
      ],
      "metadata": {
        "colab": {
          "base_uri": "https://localhost:8080/"
        },
        "id": "UyuOolyCnZB2",
        "outputId": "2109870a-ba41-4e6b-c23e-5b39e12b29d8"
      },
      "execution_count": 22,
      "outputs": [
        {
          "output_type": "execute_result",
          "data": {
            "text/plain": [
              "147577    36\n",
              "505776    36\n",
              "412425    36\n",
              "618730    36\n",
              "111143    36\n",
              "          ..\n",
              "150426    36\n",
              "195135    36\n",
              "182511    36\n",
              "82596     36\n",
              "165904    36\n",
              "Name: term, Length: 607470, dtype: int64"
            ]
          },
          "metadata": {},
          "execution_count": 22
        }
      ]
    },
    {
      "cell_type": "code",
      "source": [
        "# Cek values apa saja yang harus di cleaning\n",
        "X_train['emp_length'].unique()"
      ],
      "metadata": {
        "colab": {
          "base_uri": "https://localhost:8080/"
        },
        "id": "6Iyds_a1nY_L",
        "outputId": "9b6a4cf7-33e1-482e-be3d-ccf0b4149361"
      },
      "execution_count": 23,
      "outputs": [
        {
          "output_type": "execute_result",
          "data": {
            "text/plain": [
              "array(['4 years', '10+ years', '< 1 year', '5 years', '6 years',\n",
              "       '7 years', '2 years', '3 years', '8 years', '1 year', nan,\n",
              "       '9 years'], dtype=object)"
            ]
          },
          "metadata": {},
          "execution_count": 23
        }
      ]
    },
    {
      "cell_type": "code",
      "source": [
        "X_train['emp_length'] = X_train['emp_length'].str.replace('\\+ years', '')\n",
        "X_train['emp_length'] = X_train['emp_length'].str.replace(' years', '')\n",
        "X_train['emp_length'] = X_train['emp_length'].str.replace('< 1 year', str(0))\n",
        "X_train['emp_length'] = X_train['emp_length'].str.replace(' year', '')\n",
        "\n",
        "X_train['emp_length'].fillna(value = 0, inplace=True)\n",
        "X_train['emp_length'] = pd.to_numeric(X_train['emp_length'])"
      ],
      "metadata": {
        "id": "DAeYFDAOnY8f"
      },
      "execution_count": 24,
      "outputs": []
    },
    {
      "cell_type": "code",
      "source": [
        "X_train['emp_length']"
      ],
      "metadata": {
        "colab": {
          "base_uri": "https://localhost:8080/"
        },
        "id": "NmsdsZFqnY5F",
        "outputId": "a2dfec76-56ea-432e-e4a9-936d2085ef44"
      },
      "execution_count": 25,
      "outputs": [
        {
          "output_type": "execute_result",
          "data": {
            "text/plain": [
              "147577     4\n",
              "505776    10\n",
              "412425     0\n",
              "618730     5\n",
              "111143     6\n",
              "          ..\n",
              "150426     8\n",
              "195135     0\n",
              "182511    10\n",
              "82596      3\n",
              "165904     1\n",
              "Name: emp_length, Length: 607470, dtype: int64"
            ]
          },
          "metadata": {},
          "execution_count": 25
        }
      ]
    },
    {
      "cell_type": "code",
      "source": [
        "# Cek feature date\n",
        "col_date = ['issue_d', 'earliest_cr_line', 'last_pymnt_d',\n",
        "                    'next_pymnt_d', 'last_credit_pull_d']\n",
        "\n",
        "X_train[col_date]"
      ],
      "metadata": {
        "colab": {
          "base_uri": "https://localhost:8080/",
          "height": 644
        },
        "id": "aBkTLOcVnjgr",
        "outputId": "3588fb2d-42a4-4b57-db7d-9eb1b12d1d37"
      },
      "execution_count": 26,
      "outputs": [
        {
          "output_type": "execute_result",
          "data": {
            "text/plain": [
              "         issue_d earliest_cr_line last_pymnt_d next_pymnt_d last_credit_pull_d\n",
              "147577  Feb-2017         Aug-1994     Dec-2017     Jan-2018           Dec-2017\n",
              "505776  Apr-2016         Sep-2001     Jul-2017          NaN           Nov-2017\n",
              "412425  Jul-2017         May-1999     Dec-2017     Jan-2018           Dec-2017\n",
              "618730  Oct-2016         Jun-2005     Dec-2017     Jan-2018           Dec-2017\n",
              "111143  Mar-2017         Jan-2012     Dec-2017     Jan-2018           Dec-2017\n",
              "...          ...              ...          ...          ...                ...\n",
              "150426  Feb-2017         Nov-1998     Nov-2017          NaN           Dec-2017\n",
              "195135  Jan-2017         Sep-1993     Dec-2017     Jan-2018           Dec-2017\n",
              "182511  Jan-2017         Mar-1988     Dec-2017     Jan-2018           Dec-2017\n",
              "82596   Apr-2017         Jan-2003     Dec-2017     Jan-2018           Dec-2017\n",
              "165904  Feb-2017         Nov-2000     Dec-2017     Jan-2018           Dec-2017\n",
              "\n",
              "[607470 rows x 5 columns]"
            ],
            "text/html": [
              "\n",
              "  <div id=\"df-59bcfcc0-fb85-4c64-a547-2d44616dee6f\">\n",
              "    <div class=\"colab-df-container\">\n",
              "      <div>\n",
              "<style scoped>\n",
              "    .dataframe tbody tr th:only-of-type {\n",
              "        vertical-align: middle;\n",
              "    }\n",
              "\n",
              "    .dataframe tbody tr th {\n",
              "        vertical-align: top;\n",
              "    }\n",
              "\n",
              "    .dataframe thead th {\n",
              "        text-align: right;\n",
              "    }\n",
              "</style>\n",
              "<table border=\"1\" class=\"dataframe\">\n",
              "  <thead>\n",
              "    <tr style=\"text-align: right;\">\n",
              "      <th></th>\n",
              "      <th>issue_d</th>\n",
              "      <th>earliest_cr_line</th>\n",
              "      <th>last_pymnt_d</th>\n",
              "      <th>next_pymnt_d</th>\n",
              "      <th>last_credit_pull_d</th>\n",
              "    </tr>\n",
              "  </thead>\n",
              "  <tbody>\n",
              "    <tr>\n",
              "      <th>147577</th>\n",
              "      <td>Feb-2017</td>\n",
              "      <td>Aug-1994</td>\n",
              "      <td>Dec-2017</td>\n",
              "      <td>Jan-2018</td>\n",
              "      <td>Dec-2017</td>\n",
              "    </tr>\n",
              "    <tr>\n",
              "      <th>505776</th>\n",
              "      <td>Apr-2016</td>\n",
              "      <td>Sep-2001</td>\n",
              "      <td>Jul-2017</td>\n",
              "      <td>NaN</td>\n",
              "      <td>Nov-2017</td>\n",
              "    </tr>\n",
              "    <tr>\n",
              "      <th>412425</th>\n",
              "      <td>Jul-2017</td>\n",
              "      <td>May-1999</td>\n",
              "      <td>Dec-2017</td>\n",
              "      <td>Jan-2018</td>\n",
              "      <td>Dec-2017</td>\n",
              "    </tr>\n",
              "    <tr>\n",
              "      <th>618730</th>\n",
              "      <td>Oct-2016</td>\n",
              "      <td>Jun-2005</td>\n",
              "      <td>Dec-2017</td>\n",
              "      <td>Jan-2018</td>\n",
              "      <td>Dec-2017</td>\n",
              "    </tr>\n",
              "    <tr>\n",
              "      <th>111143</th>\n",
              "      <td>Mar-2017</td>\n",
              "      <td>Jan-2012</td>\n",
              "      <td>Dec-2017</td>\n",
              "      <td>Jan-2018</td>\n",
              "      <td>Dec-2017</td>\n",
              "    </tr>\n",
              "    <tr>\n",
              "      <th>...</th>\n",
              "      <td>...</td>\n",
              "      <td>...</td>\n",
              "      <td>...</td>\n",
              "      <td>...</td>\n",
              "      <td>...</td>\n",
              "    </tr>\n",
              "    <tr>\n",
              "      <th>150426</th>\n",
              "      <td>Feb-2017</td>\n",
              "      <td>Nov-1998</td>\n",
              "      <td>Nov-2017</td>\n",
              "      <td>NaN</td>\n",
              "      <td>Dec-2017</td>\n",
              "    </tr>\n",
              "    <tr>\n",
              "      <th>195135</th>\n",
              "      <td>Jan-2017</td>\n",
              "      <td>Sep-1993</td>\n",
              "      <td>Dec-2017</td>\n",
              "      <td>Jan-2018</td>\n",
              "      <td>Dec-2017</td>\n",
              "    </tr>\n",
              "    <tr>\n",
              "      <th>182511</th>\n",
              "      <td>Jan-2017</td>\n",
              "      <td>Mar-1988</td>\n",
              "      <td>Dec-2017</td>\n",
              "      <td>Jan-2018</td>\n",
              "      <td>Dec-2017</td>\n",
              "    </tr>\n",
              "    <tr>\n",
              "      <th>82596</th>\n",
              "      <td>Apr-2017</td>\n",
              "      <td>Jan-2003</td>\n",
              "      <td>Dec-2017</td>\n",
              "      <td>Jan-2018</td>\n",
              "      <td>Dec-2017</td>\n",
              "    </tr>\n",
              "    <tr>\n",
              "      <th>165904</th>\n",
              "      <td>Feb-2017</td>\n",
              "      <td>Nov-2000</td>\n",
              "      <td>Dec-2017</td>\n",
              "      <td>Jan-2018</td>\n",
              "      <td>Dec-2017</td>\n",
              "    </tr>\n",
              "  </tbody>\n",
              "</table>\n",
              "<p>607470 rows × 5 columns</p>\n",
              "</div>\n",
              "      <button class=\"colab-df-convert\" onclick=\"convertToInteractive('df-59bcfcc0-fb85-4c64-a547-2d44616dee6f')\"\n",
              "              title=\"Convert this dataframe to an interactive table.\"\n",
              "              style=\"display:none;\">\n",
              "        \n",
              "  <svg xmlns=\"http://www.w3.org/2000/svg\" height=\"24px\"viewBox=\"0 0 24 24\"\n",
              "       width=\"24px\">\n",
              "    <path d=\"M0 0h24v24H0V0z\" fill=\"none\"/>\n",
              "    <path d=\"M18.56 5.44l.94 2.06.94-2.06 2.06-.94-2.06-.94-.94-2.06-.94 2.06-2.06.94zm-11 1L8.5 8.5l.94-2.06 2.06-.94-2.06-.94L8.5 2.5l-.94 2.06-2.06.94zm10 10l.94 2.06.94-2.06 2.06-.94-2.06-.94-.94-2.06-.94 2.06-2.06.94z\"/><path d=\"M17.41 7.96l-1.37-1.37c-.4-.4-.92-.59-1.43-.59-.52 0-1.04.2-1.43.59L10.3 9.45l-7.72 7.72c-.78.78-.78 2.05 0 2.83L4 21.41c.39.39.9.59 1.41.59.51 0 1.02-.2 1.41-.59l7.78-7.78 2.81-2.81c.8-.78.8-2.07 0-2.86zM5.41 20L4 18.59l7.72-7.72 1.47 1.35L5.41 20z\"/>\n",
              "  </svg>\n",
              "      </button>\n",
              "      \n",
              "  <style>\n",
              "    .colab-df-container {\n",
              "      display:flex;\n",
              "      flex-wrap:wrap;\n",
              "      gap: 12px;\n",
              "    }\n",
              "\n",
              "    .colab-df-convert {\n",
              "      background-color: #E8F0FE;\n",
              "      border: none;\n",
              "      border-radius: 50%;\n",
              "      cursor: pointer;\n",
              "      display: none;\n",
              "      fill: #1967D2;\n",
              "      height: 32px;\n",
              "      padding: 0 0 0 0;\n",
              "      width: 32px;\n",
              "    }\n",
              "\n",
              "    .colab-df-convert:hover {\n",
              "      background-color: #E2EBFA;\n",
              "      box-shadow: 0px 1px 2px rgba(60, 64, 67, 0.3), 0px 1px 3px 1px rgba(60, 64, 67, 0.15);\n",
              "      fill: #174EA6;\n",
              "    }\n",
              "\n",
              "    [theme=dark] .colab-df-convert {\n",
              "      background-color: #3B4455;\n",
              "      fill: #D2E3FC;\n",
              "    }\n",
              "\n",
              "    [theme=dark] .colab-df-convert:hover {\n",
              "      background-color: #434B5C;\n",
              "      box-shadow: 0px 1px 3px 1px rgba(0, 0, 0, 0.15);\n",
              "      filter: drop-shadow(0px 1px 2px rgba(0, 0, 0, 0.3));\n",
              "      fill: #FFFFFF;\n",
              "    }\n",
              "  </style>\n",
              "\n",
              "      <script>\n",
              "        const buttonEl =\n",
              "          document.querySelector('#df-59bcfcc0-fb85-4c64-a547-2d44616dee6f button.colab-df-convert');\n",
              "        buttonEl.style.display =\n",
              "          google.colab.kernel.accessAllowed ? 'block' : 'none';\n",
              "\n",
              "        async function convertToInteractive(key) {\n",
              "          const element = document.querySelector('#df-59bcfcc0-fb85-4c64-a547-2d44616dee6f');\n",
              "          const dataTable =\n",
              "            await google.colab.kernel.invokeFunction('convertToInteractive',\n",
              "                                                     [key], {});\n",
              "          if (!dataTable) return;\n",
              "\n",
              "          const docLinkHtml = 'Like what you see? Visit the ' +\n",
              "            '<a target=\"_blank\" href=https://colab.research.google.com/notebooks/data_table.ipynb>data table notebook</a>'\n",
              "            + ' to learn more about interactive tables.';\n",
              "          element.innerHTML = '';\n",
              "          dataTable['output_type'] = 'display_data';\n",
              "          await google.colab.output.renderOutput(dataTable, element);\n",
              "          const docLink = document.createElement('div');\n",
              "          docLink.innerHTML = docLinkHtml;\n",
              "          element.appendChild(docLink);\n",
              "        }\n",
              "      </script>\n",
              "    </div>\n",
              "  </div>\n",
              "  "
            ]
          },
          "metadata": {},
          "execution_count": 26
        }
      ]
    },
    {
      "cell_type": "code",
      "source": [
        "for col in col_date:\n",
        "    X_train[col] = pd.to_datetime(X_train[col])"
      ],
      "metadata": {
        "id": "oCYvp3W_nmQd"
      },
      "execution_count": 27,
      "outputs": []
    },
    {
      "cell_type": "code",
      "source": [
        "# Lakukan hal yang sama untuk X_test\n",
        "X_test['term'] = pd.to_numeric(X_test['term'].str.replace(' months', ''))\n",
        "\n",
        "X_test['emp_length'] = X_test['emp_length'].str.replace('\\+ years', '')\n",
        "X_test['emp_length'] = X_test['emp_length'].str.replace(' years', '')\n",
        "X_test['emp_length'] = X_test['emp_length'].str.replace('< 1 year', str(0))\n",
        "X_test['emp_length'] = X_test['emp_length'].str.replace(' year', '')\n",
        "\n",
        "X_test['emp_length'].fillna(value = 0, inplace=True)\n",
        "X_test['emp_length'] = pd.to_numeric(X_test['emp_length'])\n",
        "\n",
        "for col in col_date:\n",
        "    X_test[col] = pd.to_datetime(X_test[col])"
      ],
      "metadata": {
        "id": "_EpdmCYsnrEq"
      },
      "execution_count": 28,
      "outputs": []
    },
    {
      "cell_type": "code",
      "source": [
        "# Check apakah berhasil di cleaning\n",
        "X_test[col_need_to_clean].info()"
      ],
      "metadata": {
        "colab": {
          "base_uri": "https://localhost:8080/"
        },
        "id": "rTOLXFN0nsy9",
        "outputId": "2cb53e7c-30b4-48be-e4aa-faf8fd1cd4b6"
      },
      "execution_count": 29,
      "outputs": [
        {
          "output_type": "stream",
          "name": "stdout",
          "text": [
            "<class 'pandas.core.frame.DataFrame'>\n",
            "Int64Index: 151868 entries, 280647 to 267584\n",
            "Data columns (total 7 columns):\n",
            " #   Column              Non-Null Count   Dtype         \n",
            "---  ------              --------------   -----         \n",
            " 0   term                151868 non-null  int64         \n",
            " 1   emp_length          151868 non-null  int64         \n",
            " 2   issue_d             151868 non-null  datetime64[ns]\n",
            " 3   earliest_cr_line    151868 non-null  datetime64[ns]\n",
            " 4   last_pymnt_d        151655 non-null  datetime64[ns]\n",
            " 5   next_pymnt_d        118276 non-null  datetime64[ns]\n",
            " 6   last_credit_pull_d  151867 non-null  datetime64[ns]\n",
            "dtypes: datetime64[ns](5), int64(2)\n",
            "memory usage: 9.3 MB\n"
          ]
        }
      ]
    },
    {
      "cell_type": "code",
      "source": [
        "X_train.shape, y_train.shape, X_test.shape, y_test.shape"
      ],
      "metadata": {
        "colab": {
          "base_uri": "https://localhost:8080/"
        },
        "id": "eFf0RRjMnwMg",
        "outputId": "12fe8350-fc32-4a04-ad3d-1d8b842192b6"
      },
      "execution_count": 30,
      "outputs": [
        {
          "output_type": "execute_result",
          "data": {
            "text/plain": [
              "((607470, 65), (607470,), (151868, 65), (151868,))"
            ]
          },
          "metadata": {},
          "execution_count": 30
        }
      ]
    },
    {
      "cell_type": "code",
      "source": [
        "# Kolom yang akan di feature engineering\n",
        "col_need_to_clean"
      ],
      "metadata": {
        "colab": {
          "base_uri": "https://localhost:8080/"
        },
        "id": "geuA0HRNnzih",
        "outputId": "ed169707-eb0c-41bc-b634-522d698d7360"
      },
      "execution_count": 31,
      "outputs": [
        {
          "output_type": "execute_result",
          "data": {
            "text/plain": [
              "['term',\n",
              " 'emp_length',\n",
              " 'issue_d',\n",
              " 'earliest_cr_line',\n",
              " 'last_pymnt_d',\n",
              " 'next_pymnt_d',\n",
              " 'last_credit_pull_d']"
            ]
          },
          "metadata": {},
          "execution_count": 31
        }
      ]
    },
    {
      "cell_type": "code",
      "source": [
        "X_train = X_train[col_need_to_clean]\n",
        "X_test = X_test[col_need_to_clean]"
      ],
      "metadata": {
        "id": "JqS17gH7n08g"
      },
      "execution_count": 32,
      "outputs": []
    },
    {
      "cell_type": "code",
      "source": [
        "# tidak dibutuhkan untuk feature engineering\n",
        "del X_train['next_pymnt_d']\n",
        "del X_test['next_pymnt_d']"
      ],
      "metadata": {
        "id": "K9e8sRxln3R3"
      },
      "execution_count": 33,
      "outputs": []
    },
    {
      "cell_type": "code",
      "source": [
        "X_train.shape, X_test.shape"
      ],
      "metadata": {
        "colab": {
          "base_uri": "https://localhost:8080/"
        },
        "id": "w_6FB26Gn6qe",
        "outputId": "9af208b8-4bb9-4396-ec3c-fbfe66d04945"
      },
      "execution_count": 34,
      "outputs": [
        {
          "output_type": "execute_result",
          "data": {
            "text/plain": [
              "((607470, 6), (151868, 6))"
            ]
          },
          "metadata": {},
          "execution_count": 34
        }
      ]
    },
    {
      "cell_type": "code",
      "source": [
        "from datetime import date\n",
        "\n",
        "date.today().strftime('%Y-%m-%d')"
      ],
      "metadata": {
        "colab": {
          "base_uri": "https://localhost:8080/",
          "height": 35
        },
        "id": "fVTyMF78n9Bq",
        "outputId": "59b60cb6-4b6b-45ad-f901-14721c5c2f6f"
      },
      "execution_count": 35,
      "outputs": [
        {
          "output_type": "execute_result",
          "data": {
            "text/plain": [
              "'2023-02-04'"
            ],
            "application/vnd.google.colaboratory.intrinsic+json": {
              "type": "string"
            }
          },
          "metadata": {},
          "execution_count": 35
        }
      ]
    },
    {
      "cell_type": "code",
      "source": [
        "# feature engineering untuk date columns\n",
        "def date_columns(df, column):\n",
        "    today_date = pd.to_datetime(date.today().strftime('%Y-%m-%d'))\n",
        "    df[column] = pd.to_datetime(df[column], format = \"%b-%y\")\n",
        "    df['mths_since_' + column] = round(pd.to_numeric((today_date - df[column]) / np.timedelta64(1, 'M')))\n",
        "    df.drop(columns = [column], inplace=True)\n",
        "    \n",
        "# apply to X_train\n",
        "date_columns(X_train, 'earliest_cr_line')\n",
        "date_columns(X_train, 'issue_d')\n",
        "date_columns(X_train, 'last_pymnt_d')\n",
        "date_columns(X_train, 'last_credit_pull_d')"
      ],
      "metadata": {
        "id": "cnXblaP8n-TJ"
      },
      "execution_count": 36,
      "outputs": []
    },
    {
      "cell_type": "code",
      "source": [
        "# apply to X_test\n",
        "date_columns(X_test, 'earliest_cr_line')\n",
        "date_columns(X_test, 'issue_d')\n",
        "date_columns(X_test, 'last_pymnt_d')\n",
        "date_columns(X_test, 'last_credit_pull_d')"
      ],
      "metadata": {
        "id": "D2nr0Gztn-MM"
      },
      "execution_count": 37,
      "outputs": []
    },
    {
      "cell_type": "code",
      "source": [
        "X_test.isnull().sum()"
      ],
      "metadata": {
        "colab": {
          "base_uri": "https://localhost:8080/"
        },
        "id": "yxZ9lFBnoDgl",
        "outputId": "6c0aa71b-f994-4cbb-9fb5-4f949b30f6d0"
      },
      "execution_count": 38,
      "outputs": [
        {
          "output_type": "execute_result",
          "data": {
            "text/plain": [
              "term                               0\n",
              "emp_length                         0\n",
              "mths_since_earliest_cr_line        0\n",
              "mths_since_issue_d                 0\n",
              "mths_since_last_pymnt_d          213\n",
              "mths_since_last_credit_pull_d      1\n",
              "dtype: int64"
            ]
          },
          "metadata": {},
          "execution_count": 38
        }
      ]
    },
    {
      "cell_type": "code",
      "source": [
        "X_train.isnull().sum()"
      ],
      "metadata": {
        "colab": {
          "base_uri": "https://localhost:8080/"
        },
        "id": "v1A1jK2ZoGKQ",
        "outputId": "e1a55f49-b24d-4cb6-d147-393999fc5051"
      },
      "execution_count": 39,
      "outputs": [
        {
          "output_type": "execute_result",
          "data": {
            "text/plain": [
              "term                               0\n",
              "emp_length                         0\n",
              "mths_since_earliest_cr_line        0\n",
              "mths_since_issue_d                 0\n",
              "mths_since_last_pymnt_d          735\n",
              "mths_since_last_credit_pull_d     17\n",
              "dtype: int64"
            ]
          },
          "metadata": {},
          "execution_count": 39
        }
      ]
    },
    {
      "cell_type": "code",
      "source": [
        "X_train.fillna(X_train.median(), inplace=True)\n",
        "X_test.fillna(X_test.median(), inplace=True)"
      ],
      "metadata": {
        "id": "Y3d9aqTyoJpC"
      },
      "execution_count": 40,
      "outputs": []
    }
  ]
}